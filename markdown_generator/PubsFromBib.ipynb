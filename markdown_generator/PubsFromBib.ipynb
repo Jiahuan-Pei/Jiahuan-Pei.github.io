{
 "cells": [
  {
   "cell_type": "markdown",
   "metadata": {},
   "source": [
    "# Publications markdown generator for academicpages\n",
    "\n",
    "Takes a set of bibtex of publications and converts them for use with [academicpages.github.io](academicpages.github.io). This is an interactive Jupyter notebook ([see more info here](http://jupyter-notebook-beginner-guide.readthedocs.io/en/latest/what_is_jupyter.html)). \n",
    "\n",
    "The core python code is also in `pubsFromBibs.py`. \n",
    "Run either from the `markdown_generator` folder after replacing updating the publist dictionary with:\n",
    "* bib file names\n",
    "* specific venue keys based on your bib file preferences\n",
    "* any specific pre-text for specific files\n",
    "* Collection Name (future feature)\n",
    "\n",
    "TODO: Make this work with other databases of citations, \n",
    "TODO: Merge this with the existing TSV parsing solution"
   ]
  },
  {
   "cell_type": "code",
   "execution_count": 2,
   "metadata": {
    "pycharm": {
     "name": "#%%\n"
    }
   },
   "outputs": [
    {
     "name": "stdout",
     "output_type": "stream",
     "text": [
      "Requirement already satisfied: pybtex in /Users/jiahuanpei/opt/anaconda3/lib/python3.9/site-packages (0.24.0)\n",
      "Requirement already satisfied: PyYAML>=3.01 in /Users/jiahuanpei/opt/anaconda3/lib/python3.9/site-packages (from pybtex) (6.0)\n",
      "Requirement already satisfied: latexcodec>=1.0.4 in /Users/jiahuanpei/opt/anaconda3/lib/python3.9/site-packages (from pybtex) (2.0.1)\n",
      "Requirement already satisfied: six in /Users/jiahuanpei/opt/anaconda3/lib/python3.9/site-packages (from pybtex) (1.16.0)\n",
      "\n",
      "\u001b[1m[\u001b[0m\u001b[34;49mnotice\u001b[0m\u001b[1;39;49m]\u001b[0m\u001b[39;49m A new release of pip is available: \u001b[0m\u001b[31;49m23.1.2\u001b[0m\u001b[39;49m -> \u001b[0m\u001b[32;49m23.2.1\u001b[0m\n",
      "\u001b[1m[\u001b[0m\u001b[34;49mnotice\u001b[0m\u001b[1;39;49m]\u001b[0m\u001b[39;49m To update, run: \u001b[0m\u001b[32;49mpip install --upgrade pip\u001b[0m\n"
     ]
    }
   ],
   "source": [
    "!pip install pybtex"
   ]
  },
  {
   "cell_type": "code",
   "execution_count": 3,
   "metadata": {
    "pycharm": {
     "name": "#%%\n"
    }
   },
   "outputs": [],
   "source": [
    "from pybtex.database.input import bibtex\n",
    "import pybtex.database.input.bibtex\n",
    "from time import strptime\n",
    "import string\n",
    "import html\n",
    "import os\n",
    "import re"
   ]
  },
  {
   "cell_type": "code",
   "execution_count": 4,
   "metadata": {},
   "outputs": [],
   "source": [
    "#todo: incorporate different collection types rather than a catch all publications, requires other changes to template\n",
    "publist = {\n",
    "    \"proceeding\": {\n",
    "        \"file\" : \"../files/proceedings.bib\",\n",
    "        \"venuekey\": \"booktitle\",\n",
    "        \"venue-pretext\": \"In \",\n",
    "        \"collection\" : {\"name\":\"publications\",\n",
    "                        \"permalink\":\"/publication/\"}\n",
    "    },\n",
    "    \"journal\":{\n",
    "        \"file\": \"../files/journals.bib\",\n",
    "        \"venuekey\" : \"journal\",\n",
    "        \"venue-pretext\" : \"\",\n",
    "        \"collection\" : {\"name\":\"publications\",\n",
    "                        \"permalink\":\"/publication/\"}\n",
    "    },\n",
    "    \"book\":{\n",
    "        \"file\": \"../files/books.bib\",\n",
    "        \"venuekey\" : \"publisher\",\n",
    "        \"venue-pretext\" : \"\",\n",
    "        \"collection\" : {\"name\":\"publications\",\n",
    "                        \"permalink\":\"/publication/\"}\n",
    "    },\n",
    "}"
   ]
  },
  {
   "cell_type": "code",
   "execution_count": 5,
   "metadata": {},
   "outputs": [],
   "source": [
    "html_escape_table = {\n",
    "    \"&\": \"&amp;\",\n",
    "    '\"': \"&quot;\",\n",
    "    \"'\": \"&apos;\"\n",
    "    }\n",
    "\n",
    "def html_escape(text):\n",
    "    \"\"\"Produce entities within text.\"\"\"\n",
    "    return \"\".join(html_escape_table.get(c,c) for c in text)"
   ]
  },
  {
   "cell_type": "code",
   "execution_count": 7,
   "metadata": {
    "scrolled": false
   },
   "outputs": [
    {
     "name": "stdout",
     "output_type": "stream",
     "text": [
      "SUCESSFULLY PARSED pei-2022-learning: \" Learning Embeddings to Represent Information Retrieval Syste ... \"\n",
      "SUCESSFULLY PARSED pei-2021-transformer: \" Transformer Uncertainty Estimation with Hierarchical Stochas ... \"\n",
      "SUCESSFULLY PARSED yan-2021-meddialog: \" ReMeDi: Resources for Multi-domain, Multi-service, Medical D ... \"\n",
      "SUCESSFULLY PARSED pei-2021-cooperative: \" A Cooperative Memory Network for Personalized Task-oriented  ... \"\n",
      "SUCESSFULLY PARSED pei-2019-prmog: \" Retrospective and Prospective Mixture-of-Generators for Task ... \"\n",
      "SUCESSFULLY PARSED pei-2019-modular-tds: \" A Modular Task-oriented Dialogue System Using a Neural Mixtu ... \"\n",
      "SUCESSFULLY PARSED pei-2019-sentent: \" SEntNet: Source-aware Recurrent Entity Network for Dialogue  ... \"\n",
      "SUCESSFULLY PARSED ma-2018-recognition: \" Recognition of Syntactic Relationship between Clauses Using  ... \"\n",
      "SUCESSFULLY PARSED pei-2016-combining: \" Combining Word Embedding and Semantic Lexicon for {Chinese}  ... \"\n",
      "SUCESSFULLY PARSED pei-2016-tid: \" DUT-NLP-CH @ NTCIR-12 Temporalia Temporal Intent Disambiguat ... \"\n",
      "SUCESSFULLY PARSED deng2023intent: \" Intent-calibrated Self-training for Answer Selection in Open ... \"\n",
      "SUCESSFULLY PARSED wang2021pre: \" Pre-trained Language Models in Biomedical Domain: A Systemat ... \"\n",
      "SUCESSFULLY PARSED huang-2018-incorporating: \" Incorporating Prior Knowledge into Word Embedding for Chines ... \"\n",
      "SUCESSFULLY PARSED ma-2018-syntactic: \" Syntactic parsing of clause constituents for statistical mac ... \"\n",
      "SUCESSFULLY PARSED zhang-2017-semantic: \" Semantic graph optimization algorithm based chinesemicroblog ... \"\n",
      "SUCESSFULLY PARSED ma-2016-identification: \" Identification of English Functional Noun Phrases by CRFs an ... \"\n",
      "SUCESSFULLY PARSED pei-2022-doctoral: \" Collaborative Agents for Task-oriented Dialogue Systems (Doc ... \"\n",
      "SUCESSFULLY PARSED pei-2017-master: \" Research on Chinese Word Semantic Similarity Computation ({M ... \"\n",
      "SUCESSFULLY PARSED pei-2014-bachelor: \" Chinese Functional Maximal-length Noun Phrase Recognition ({ ... \"\n"
     ]
    }
   ],
   "source": [
    "for pubsource in publist:\n",
    "    parser = bibtex.Parser()\n",
    "    bibdata = parser.parse_file(publist[pubsource][\"file\"])\n",
    "    #loop through the individual references in a given bibtex file\n",
    "    for bib_id in bibdata.entries:\n",
    "        #reset default date\n",
    "        pub_year = \"1900\"\n",
    "        pub_month = \"01\"\n",
    "        pub_day = \"01\"\n",
    "        \n",
    "        b = bibdata.entries[bib_id].fields\n",
    "        \n",
    "        try:\n",
    "            pub_year = f'{b[\"year\"]}'\n",
    "\n",
    "            #todo: this hack for month and day needs some cleanup\n",
    "            if \"month\" in b.keys(): \n",
    "                if(len(b[\"month\"])<3):\n",
    "                    pub_month = \"0\"+b[\"month\"]\n",
    "                    pub_month = pub_month[-2:]\n",
    "                elif(b[\"month\"] not in range(12)):\n",
    "                    tmnth = strptime(b[\"month\"][:3],'%b').tm_mon   \n",
    "                    pub_month = \"{:02d}\".format(tmnth) \n",
    "                else:\n",
    "                    pub_month = str(b[\"month\"])\n",
    "            if \"day\" in b.keys(): \n",
    "                pub_day = str(b[\"day\"])\n",
    "\n",
    "                \n",
    "            pub_date = pub_year+\"-\"+pub_month+\"-\"+pub_day\n",
    "            \n",
    "            #strip out {} as needed (some bibtex entries that maintain formatting)\n",
    "            clean_title = b[\"title\"].replace(\"{\", \"\").replace(\"}\",\"\").replace(\"\\\\\",\"\").replace(\" \",\"-\")    \n",
    "\n",
    "            url_slug = re.sub(\"\\\\[.*\\\\]|[^a-zA-Z0-9_-]\", \"\", clean_title)\n",
    "            url_slug = url_slug.replace(\"--\",\"-\")\n",
    "\n",
    "            md_filename = (str(pub_date) + \"-\" + url_slug + \".md\").replace(\"--\",\"-\")\n",
    "            html_filename = (str(pub_date) + \"-\" + url_slug).replace(\"--\",\"-\")\n",
    "\n",
    "            #Build Citation from text\n",
    "            citation = \"\"\n",
    "\n",
    "            #citation authors - add highlighting for myself\n",
    "            for author in bibdata.entries[bib_id].persons[\"author\"]:\n",
    "                if author.first_names[0].lower() == 'jiahuan' and author.last_names[0].lower() == 'pei':\n",
    "                    citation = citation+\" <b>\"+author.first_names[0]+\" \"+author.last_names[0]+\"*</b>, \"\n",
    "                else:\n",
    "                    citation = citation+\" \"+author.first_names[0]+\" \"+author.last_names[0]+\", \"\n",
    "\n",
    "            #citation title\n",
    "            citation = citation + \"\\\"\" + html_escape(b[\"title\"].replace(\"{\", \"\").replace(\"}\",\"\").replace(\"\\\\\",\"\")) + \".\\\"\"\n",
    "\n",
    "            #add venue logic depending on citation type\n",
    "            venue = publist[pubsource][\"venue-pretext\"]+b[publist[pubsource][\"venuekey\"]].replace(\"{\", \"\").replace(\"}\",\"\").replace(\"\\\\\",\"\")\n",
    "\n",
    "            citation = citation + \" \" + html_escape(venue)\n",
    "            citation = citation + \", \" + pub_year + \".\"\n",
    "\n",
    "            \n",
    "            ## YAML variables\n",
    "            md = \"---\\ntitle: \\\"\"   + html_escape(b[\"title\"].replace(\"{\", \"\").replace(\"}\",\"\").replace(\"\\\\\",\"\")) + '\"\\n'\n",
    "            \n",
    "            md += \"\"\"\\ncollection: \"\"\" +  publist[pubsource][\"collection\"][\"name\"]\n",
    "\n",
    "            # pp added\n",
    "            md += \"\"\"\\npubsource: \"\"\" +  pubsource\n",
    "\n",
    "            md += \"\"\"\\npermalink: \"\"\" + publist[pubsource][\"collection\"][\"permalink\"]  + html_filename\n",
    "            \n",
    "            note = False\n",
    "            if \"note\" in b.keys():\n",
    "                if len(str(b[\"note\"])) > 5:\n",
    "                    md += \"\\nexcerpt: '\" + html_escape(b[\"note\"]) + \"'\"\n",
    "                    note = True\n",
    "\n",
    "            md += \"\\ndate: \" + str(pub_date) \n",
    "\n",
    "            md += \"\\nvenue: '\" + html_escape(venue) + \"'\"\n",
    "            \n",
    "            url = False\n",
    "            if \"url\" in b.keys():\n",
    "                if len(str(b[\"url\"])) > 5:\n",
    "                    md += \"\\npaperurl: '\" + b[\"url\"] + \"'\"\n",
    "                    url = True\n",
    "\n",
    "            code = False\n",
    "            if \"code\" in b.keys():\n",
    "                if len(str(b[\"code\"])) > 5:\n",
    "                    md += \"\\ncodeurl: '\" + b[\"code\"] + \"'\"\n",
    "                    code = True\n",
    "\n",
    "            data = False\n",
    "            if \"data\" in b.keys():\n",
    "                if len(str(b[\"data\"])) > 5:\n",
    "                    md += \"\\ndataurl: '\" + b[\"data\"] + \"'\"\n",
    "                    data = True\n",
    "\n",
    "            md += \"\\ncitation: '\" + html_escape(citation) + \"'\"\n",
    "\n",
    "            md += \"\\n---\"\n",
    "\n",
    "            \n",
    "            ## Markdown description for individual page\n",
    "            if note:\n",
    "                md += \"\\n\" + html_escape(b[\"note\"]) + \"\\n\"\n",
    "\n",
    "            # if url:\n",
    "            #     md += \"\\n[Access paper here](\" + b[\"url\"] + \"){:target=\\\"_blank\\\"}\\n\"\n",
    "            # else:\n",
    "            #     md += \"\\nUse [Google Scholar](https://scholar.google.com/scholar?q=\"+html.escape(clean_title.replace(\"-\",\"+\"))+\"){:target=\\\"_blank\\\"} for full citation\"\n",
    "\n",
    "            md_filename = os.path.basename(md_filename)\n",
    "\n",
    "            with open(\"../_publications/\" + md_filename, 'w') as f:\n",
    "                f.write(md)\n",
    "            print(f'SUCESSFULLY PARSED {bib_id}: \\\"', b[\"title\"][:60],\"...\"*(len(b['title'])>60),\"\\\"\")\n",
    "        # field may not exist for a reference\n",
    "        except KeyError as e:\n",
    "            print(f'WARNING Missing Expected Field {e} from entry {bib_id}: \\\"', b[\"title\"][:30],\"...\"*(len(b['title'])>30),\"\\\"\")\n",
    "            continue\n"
   ]
  },
  {
   "cell_type": "code",
   "execution_count": null,
   "metadata": {},
   "outputs": [],
   "source": []
  },
  {
   "cell_type": "code",
   "execution_count": null,
   "metadata": {
    "pycharm": {
     "name": "#%%\n"
    }
   },
   "outputs": [],
   "source": []
  }
 ],
 "metadata": {
  "kernelspec": {
   "display_name": "Python 3 (ipykernel)",
   "language": "python",
   "name": "python3"
  },
  "language_info": {
   "codemirror_mode": {
    "name": "ipython",
    "version": 3
   },
   "file_extension": ".py",
   "mimetype": "text/x-python",
   "name": "python",
   "nbconvert_exporter": "python",
   "pygments_lexer": "ipython3",
   "version": "3.9.13"
  }
 },
 "nbformat": 4,
 "nbformat_minor": 2
}
