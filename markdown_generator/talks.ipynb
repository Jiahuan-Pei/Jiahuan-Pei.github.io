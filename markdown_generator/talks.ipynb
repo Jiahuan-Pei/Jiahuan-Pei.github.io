{
 "cells": [
  {
   "cell_type": "markdown",
   "metadata": {},
   "source": [
    "# Talks markdown generator for academicpages\n",
    "\n",
    "Takes a TSV of talks with metadata and converts them for use with [academicpages.github.io](academicpages.github.io). This is an interactive Jupyter notebook ([see more info here](http://jupyter-notebook-beginner-guide.readthedocs.io/en/latest/what_is_jupyter.html)). The core python code is also in `talks.py`. Run either from the `markdown_generator` folder after replacing `talks.tsv` with one containing your data.\n",
    "\n",
    "TODO: Make this work with BibTex and other databases, rather than Stuart's non-standard TSV format and citation style."
   ]
  },
  {
   "cell_type": "code",
   "execution_count": 9,
   "metadata": {},
   "outputs": [],
   "source": [
    "import pandas as pd\n",
    "import os"
   ]
  },
  {
   "cell_type": "markdown",
   "metadata": {},
   "source": [
    "## Data format\n",
    "\n",
    "The TSV needs to have the following columns: title, type, url_slug, venue, date, location, talk_url, description, with a header at the top. Many of these fields can be blank, but the columns must be in the TSV.\n",
    "\n",
    "- Fields that cannot be blank: `title`, `url_slug`, `date`. All else can be blank. `type` defaults to \"Talk\" \n",
    "- `date` must be formatted as YYYY-MM-DD.\n",
    "- `url_slug` will be the descriptive part of the .md file and the permalink URL for the page about the paper. \n",
    "    - The .md file will be `YYYY-MM-DD-[url_slug].md` and the permalink will be `https://[yourdomain]/talks/YYYY-MM-DD-[url_slug]`\n",
    "    - The combination of `url_slug` and `date` must be unique, as it will be the basis for your filenames\n",
    "\n",
    "This is how the raw file looks (it doesn't look pretty, use a spreadsheet or other program to edit and create)."
   ]
  },
  {
   "cell_type": "code",
   "execution_count": 10,
   "metadata": {},
   "outputs": [
    {
     "name": "stdout",
     "output_type": "stream",
     "text": [
      "title\ttype\turl_slug\tvenue\tdate\tlocation\ttalk_url\tdescription\r",
      "\r\n",
      "Multimodal Conversational AI Agents Towards Smarter Assistant\tInvited Talk\t\tMicrosoft Research\t07/02/2024\t\"Cambridge, United Kingdom\"\t\t\"Artificial Intelligence (AI) is playing an increasingly vital role in scientific research, particularly in enhancing Human-Computer Interaction (HCI) through the development of smarter agents. Conversational AI agents, in particular, have demonstrated considerable potential in enriching the user experience within multimodal immersive systems, facilitated by large language model (LLM)-powered autonomous agents. \r\n",
      "\r\n",
      "In this talk, drawing from my practical expertise, we will delve into the application of large foundation models and frameworks in natural language processing (NLP) and information retrieval (IR) tasks. Specifically, we will explore recent advancements in multimodal agents within Extended Reality (XR) environments utilizing LLMs such as OpenAI's GPT models, LLAMA2, etc. We will also discuss model fine-tuning techniques like LORA and QLORA, as well as agent planning methodologies grounded in prompting techniques such as Chain of Thought and ReACT. \r\n",
      "\r\n",
      "Furthermore, we will address the revision of the frontier research and the potential for fostering interdisciplinary collaborations between researchers and practitioners in the realms of NLP and HCI. Moreover, we will discuss the challenges and limitations in multimodal XR scenarios, aiming to provide insights into overcoming these obstacles effectively.\"\r",
      "\r\n",
      "Multimodal Dialogue Agents Towards Intelligent XR\tInvited Talk\tuu2023\tUtrecht University\t04/12/2023\t\"Utrecht, Netherlans\"\t\t\r",
      "\r\n",
      "Maximising efficiency in NLP model training and XR environments\tInvited Panel Talk\titw2023\tImmersive Tech Week\t29/11/2023\t\"Rotterdam, Netherlands\"\thttps://voxreality.eu/voxreality-unleashes-xr-revolution-nlp-mastery-and-tech-wizardry-take-center-stage-at-immersive-tech-week-2023/\t\"In this talk, drawing from my practical expertise, we will delve into the application of large foundation models and frameworks in natural language processing (NLP) and information retrieval (IR) tasks. Specifically, we will explore recent advancements in multimodal agents within Extended Reality (XR) environments utilizing LLMs such as OpenAI's GPT models, LLAMA2, etc. We will also discuss model fine-tuning techniques like LORA and QLORA, as well as agent planning methodologies grounded in prompting techniques such as Chain of Thought and ReACT. \"\r",
      "\r\n",
      "Language Model Powered Dialogue Agents and Virtual KB\tInvited Talk\tsony2023\tSony AI\t19/09/2023\t\"Barcelona, Spain\"\t\t\r",
      "\r\n",
      "Advancements and Prospects in Dialogue Agents and LLMs\tInvited Talk\tbosch2023\tBosch Center of Artificial Intelligence (BCAI)\t24/07/2023\t\"Renningen, Germany\"\t\t\"Furthermore, we will address the revision of the frontier research and the potential for fostering interdisciplinary collaborations between researchers and practitioners in the realms of NLP and HCI. Moreover, we will discuss the challenges and limitations in multimodal XR scenarios, aiming to provide insights into overcoming these obstacles effectively.\"\r",
      "\r\n",
      "Generative AI towards Scientific Discovery\tInvited Talk\tmsr2023\tMicrosoft Research AI4Science\t06/04/2023\t\"Amsterdam, Netherlands\"\t\t\"Artificial Intelligence (AI) is becoming increasingly important for scientific research, with many applications in fields like chemistry and biology. Generative AI, in particular, has shown great promise in accelerating scientific discovery by generating hypotheses and insights that may be difficult for humans to uncover. In this talk, we will use my previous research as examples to explore how generative AI models can be applied to natural language processing (NLP) and information retrieval (IR) tasks. We will also discuss the challenges and limitations of using generative AI, including concerns around uncertainty and interpretability. Furthermore, we will discuss the potential applications of generative AI in scientific discovery, such as accelerating the discovery of new molecules and simulating biological processes. Generative AI also has the potential to facilitate interdisciplinary collaborations between AI researchers and domain experts, such as chemists and biologists.\"\r",
      "\r\n",
      "Learning Embeddings to Represent Information Retrieval Systems\tInvited Conference Talk\tamlc2022\tAmazon Machine Learning Conference (AMLC)\t14/10/2022\t\"Seattle, WA, US\"\t\t\"In this talk, I introduce our paper accepted by Amazon Machine Learning Conference (AMLC) 2022 Workshop on Deep Metric Learning and Semantic Similarity Search.\"\r",
      "\r\n",
      "Frontiers of Collaborative Task-oriented Dialogue Systems\tInvited Talk\tucl2022\tUniversity College London (UCL)\t06/07/2022\t\"London, UK\"\t\t\"In this talk, I introduce our exploration of collaborative dialogue models and our recent work on task-oriented dialogue systems. Task-oriented dialogue systems (TDSs), as an important branch of dialogue systems, have raised considerable interest due to their broad applicability. Recent end-to-end single-module TDSs have many attractive characteristics, e.g., global optimization and easy adaptation to new domains. However, we think it is impractical to use a single general agent to handle all complex cases in TDSs. For example, an agent that is specialized in booking a restaurant is unlikely to work well in scheduling meetings. Inspired by this intuition, we call for studies on a new series of collaborative task-oriented dialogue system (CTDS) frameworks, where multiple parallel and/or hierarchical agents work in a collaborative manner to achieve better performance than a single, general agent.\"\r",
      "\r\n",
      "Transformer Uncertainty Estimation with Hierarchical Stochastic Attention\tInvited Talk\tsea2022\tSearch Engine Amsterdam (SEA)\t29/04/2022\t\"Amsterdam, Netherlands\"\t\t\"In this talk, I introduce the stochastic transformers, which have been published at AAAI 2022 conference and discuss about uncertain estimation in NLP/IR.Transformers are state-of-the-art in a wide range of NLP tasks and have also been applied to many real-world products. Understanding the reliability and certainty of transformer model predictions is crucial for building trustable machine learning applications, e.g., medical diagnosis. Although many recent transformer extensions have been proposed, the study of the uncertainty estimation of transformer models is under-explored. [[Link]](https://irlab.science.uva.nl/2022/04/21/search-engines-amsterdam-april-29/)\""
     ]
    }
   ],
   "source": [
    "!cat talks.tsv"
   ]
  },
  {
   "cell_type": "markdown",
   "metadata": {},
   "source": [
    "## Import TSV\n",
    "\n",
    "Pandas makes this easy with the read_csv function. We are using a TSV, so we specify the separator as a tab, or `\\t`.\n",
    "\n",
    "I found it important to put this data in a tab-separated values format, because there are a lot of commas in this kind of data and comma-separated values can get messed up. However, you can modify the import statement, as pandas also has read_excel(), read_json(), and others."
   ]
  },
  {
   "cell_type": "code",
   "execution_count": 22,
   "metadata": {
    "scrolled": true
   },
   "outputs": [
    {
     "data": {
      "text/html": [
       "<div>\n",
       "<style scoped>\n",
       "    .dataframe tbody tr th:only-of-type {\n",
       "        vertical-align: middle;\n",
       "    }\n",
       "\n",
       "    .dataframe tbody tr th {\n",
       "        vertical-align: top;\n",
       "    }\n",
       "\n",
       "    .dataframe thead th {\n",
       "        text-align: right;\n",
       "    }\n",
       "</style>\n",
       "<table border=\"1\" class=\"dataframe\">\n",
       "  <thead>\n",
       "    <tr style=\"text-align: right;\">\n",
       "      <th></th>\n",
       "      <th>title</th>\n",
       "      <th>type</th>\n",
       "      <th>url_slug</th>\n",
       "      <th>venue</th>\n",
       "      <th>date</th>\n",
       "      <th>location</th>\n",
       "      <th>talk_url</th>\n",
       "      <th>description</th>\n",
       "    </tr>\n",
       "  </thead>\n",
       "  <tbody>\n",
       "    <tr>\n",
       "      <th>0</th>\n",
       "      <td>Multimodal Conversational AI Agents Towards Sm...</td>\n",
       "      <td>Invited Talk</td>\n",
       "      <td>msr2024</td>\n",
       "      <td>Microsoft Research</td>\n",
       "      <td>07/02/2024</td>\n",
       "      <td>Cambridge, United Kingdom</td>\n",
       "      <td>NaN</td>\n",
       "      <td>Artificial Intelligence (AI) is playing an inc...</td>\n",
       "    </tr>\n",
       "    <tr>\n",
       "      <th>1</th>\n",
       "      <td>Multimodal Dialogue Agents Towards Intelligent XR</td>\n",
       "      <td>Invited Talk</td>\n",
       "      <td>uu2023</td>\n",
       "      <td>Utrecht University</td>\n",
       "      <td>04/12/2023</td>\n",
       "      <td>Utrecht, Netherlans</td>\n",
       "      <td>NaN</td>\n",
       "      <td>Interactive personal assistants have been play...</td>\n",
       "    </tr>\n",
       "    <tr>\n",
       "      <th>2</th>\n",
       "      <td>Maximising efficiency in NLP model training an...</td>\n",
       "      <td>Invited Panel Talk</td>\n",
       "      <td>itw2023</td>\n",
       "      <td>Immersive Tech Week</td>\n",
       "      <td>29/11/2023</td>\n",
       "      <td>Rotterdam, Netherlands</td>\n",
       "      <td>NaN</td>\n",
       "      <td>In the realm where Natural Language Processing...</td>\n",
       "    </tr>\n",
       "    <tr>\n",
       "      <th>3</th>\n",
       "      <td>Language Model Powered Dialogue Agents and Vir...</td>\n",
       "      <td>Invited Talk</td>\n",
       "      <td>sony2023</td>\n",
       "      <td>Sony AI</td>\n",
       "      <td>19/09/2023</td>\n",
       "      <td>Barcelona, Spain</td>\n",
       "      <td>NaN</td>\n",
       "      <td>In this talk, we will explore the emerging int...</td>\n",
       "    </tr>\n",
       "    <tr>\n",
       "      <th>4</th>\n",
       "      <td>Advancements and Prospects in Dialogue Agents ...</td>\n",
       "      <td>Invited Talk</td>\n",
       "      <td>bosch2023</td>\n",
       "      <td>Bosch Center of Artificial Intelligence (BCAI)</td>\n",
       "      <td>24/07/2023</td>\n",
       "      <td>Renningen, Germany</td>\n",
       "      <td>NaN</td>\n",
       "      <td>In this talk, we will delve into the exciting ...</td>\n",
       "    </tr>\n",
       "    <tr>\n",
       "      <th>5</th>\n",
       "      <td>Generative AI towards Scientific Discovery</td>\n",
       "      <td>Invited Talk</td>\n",
       "      <td>msr2023</td>\n",
       "      <td>Microsoft Research AI4Science</td>\n",
       "      <td>06/04/2023</td>\n",
       "      <td>Amsterdam, Netherlands</td>\n",
       "      <td>NaN</td>\n",
       "      <td>Artificial Intelligence (AI) is becoming incre...</td>\n",
       "    </tr>\n",
       "    <tr>\n",
       "      <th>6</th>\n",
       "      <td>Learning Embeddings to Represent Information R...</td>\n",
       "      <td>Invited Conference Talk</td>\n",
       "      <td>amlc2022</td>\n",
       "      <td>Amazon Machine Learning Conference (AMLC)</td>\n",
       "      <td>14/10/2022</td>\n",
       "      <td>Seattle, WA, US</td>\n",
       "      <td>NaN</td>\n",
       "      <td>In this talk, I introduce our paper accepted b...</td>\n",
       "    </tr>\n",
       "    <tr>\n",
       "      <th>7</th>\n",
       "      <td>Frontiers of Collaborative Task-oriented Dialo...</td>\n",
       "      <td>Invited Talk</td>\n",
       "      <td>ucl2022</td>\n",
       "      <td>University College London (UCL)</td>\n",
       "      <td>06/07/2022</td>\n",
       "      <td>London, UK</td>\n",
       "      <td>NaN</td>\n",
       "      <td>In this talk, I introduce our exploration of c...</td>\n",
       "    </tr>\n",
       "    <tr>\n",
       "      <th>8</th>\n",
       "      <td>Transformer Uncertainty Estimation with Hierar...</td>\n",
       "      <td>Invited Talk</td>\n",
       "      <td>sea2022</td>\n",
       "      <td>Search Engine Amsterdam (SEA)</td>\n",
       "      <td>29/04/2022</td>\n",
       "      <td>Amsterdam, Netherlands</td>\n",
       "      <td>NaN</td>\n",
       "      <td>In this talk, I introduce the stochastic trans...</td>\n",
       "    </tr>\n",
       "  </tbody>\n",
       "</table>\n",
       "</div>"
      ],
      "text/plain": [
       "                                               title                     type  \\\n",
       "0  Multimodal Conversational AI Agents Towards Sm...             Invited Talk   \n",
       "1  Multimodal Dialogue Agents Towards Intelligent XR             Invited Talk   \n",
       "2  Maximising efficiency in NLP model training an...       Invited Panel Talk   \n",
       "3  Language Model Powered Dialogue Agents and Vir...             Invited Talk   \n",
       "4  Advancements and Prospects in Dialogue Agents ...             Invited Talk   \n",
       "5         Generative AI towards Scientific Discovery             Invited Talk   \n",
       "6  Learning Embeddings to Represent Information R...  Invited Conference Talk   \n",
       "7  Frontiers of Collaborative Task-oriented Dialo...             Invited Talk   \n",
       "8  Transformer Uncertainty Estimation with Hierar...             Invited Talk   \n",
       "\n",
       "    url_slug                                           venue        date  \\\n",
       "0    msr2024                              Microsoft Research  07/02/2024   \n",
       "1     uu2023                              Utrecht University  04/12/2023   \n",
       "2    itw2023                             Immersive Tech Week  29/11/2023   \n",
       "3   sony2023                                         Sony AI  19/09/2023   \n",
       "4  bosch2023  Bosch Center of Artificial Intelligence (BCAI)  24/07/2023   \n",
       "5    msr2023                   Microsoft Research AI4Science  06/04/2023   \n",
       "6   amlc2022       Amazon Machine Learning Conference (AMLC)  14/10/2022   \n",
       "7    ucl2022                 University College London (UCL)  06/07/2022   \n",
       "8    sea2022                   Search Engine Amsterdam (SEA)  29/04/2022   \n",
       "\n",
       "                    location  talk_url  \\\n",
       "0  Cambridge, United Kingdom       NaN   \n",
       "1        Utrecht, Netherlans       NaN   \n",
       "2     Rotterdam, Netherlands       NaN   \n",
       "3           Barcelona, Spain       NaN   \n",
       "4         Renningen, Germany       NaN   \n",
       "5     Amsterdam, Netherlands       NaN   \n",
       "6            Seattle, WA, US       NaN   \n",
       "7                 London, UK       NaN   \n",
       "8     Amsterdam, Netherlands       NaN   \n",
       "\n",
       "                                         description  \n",
       "0  Artificial Intelligence (AI) is playing an inc...  \n",
       "1  Interactive personal assistants have been play...  \n",
       "2  In the realm where Natural Language Processing...  \n",
       "3  In this talk, we will explore the emerging int...  \n",
       "4  In this talk, we will delve into the exciting ...  \n",
       "5  Artificial Intelligence (AI) is becoming incre...  \n",
       "6  In this talk, I introduce our paper accepted b...  \n",
       "7  In this talk, I introduce our exploration of c...  \n",
       "8  In this talk, I introduce the stochastic trans...  "
      ]
     },
     "execution_count": 22,
     "metadata": {},
     "output_type": "execute_result"
    }
   ],
   "source": [
    "talks = pd.read_csv(\"talks.tsv\", sep=\"\\t\", header=0)\n",
    "talks"
   ]
  },
  {
   "cell_type": "markdown",
   "metadata": {},
   "source": [
    "## Escape special characters\n",
    "\n",
    "YAML is very picky about how it takes a valid string, so we are replacing single and double quotes (and ampersands) with their HTML encoded equivilents. This makes them look not so readable in raw format, but they are parsed and rendered nicely."
   ]
  },
  {
   "cell_type": "code",
   "execution_count": 23,
   "metadata": {},
   "outputs": [],
   "source": [
    "html_escape_table = {\n",
    "    \"&\": \"&amp;\",\n",
    "    '\"': \"&quot;\",\n",
    "    \"'\": \"&apos;\"\n",
    "    }\n",
    "\n",
    "def html_escape(text):\n",
    "    if type(text) is str:\n",
    "        return \"\".join(html_escape_table.get(c,c) for c in text)\n",
    "    else:\n",
    "        return \"False\""
   ]
  },
  {
   "cell_type": "markdown",
   "metadata": {},
   "source": [
    "## Creating the markdown files\n",
    "\n",
    "This is where the heavy lifting is done. This loops through all the rows in the TSV dataframe, then starts to concatentate a big string (```md```) that contains the markdown for each type. It does the YAML metadata first, then does the description for the individual page."
   ]
  },
  {
   "cell_type": "code",
   "execution_count": 24,
   "metadata": {},
   "outputs": [],
   "source": [
    "loc_dict = {}\n",
    "\n",
    "for row, item in talks.iterrows():\n",
    "    \n",
    "    md_filename = str(item.date) + \"-\" + item.url_slug + \".md\"\n",
    "    html_filename = str(item.date) + \"-\" + item.url_slug \n",
    "    year = item.date[:4]\n",
    "    \n",
    "    md = \"---\\ntitle: \\\"\"   + item.title + '\"\\n'\n",
    "    md += \"collection: talks\" + \"\\n\"\n",
    "    \n",
    "    if len(str(item.type)) > 3:\n",
    "        md += 'type: \"' + item.type + '\"\\n'\n",
    "    else:\n",
    "        md += 'type: \"Talk\"\\n'\n",
    "    \n",
    "    md += \"permalink: /talks/\" + html_filename + \"\\n\"\n",
    "    \n",
    "    if len(str(item.venue)) > 3:\n",
    "        md += 'venue: \"' + item.venue + '\"\\n'\n",
    "        \n",
    "    if len(str(item.location)) > 3:\n",
    "        md += \"date: \" + str(item.date) + \"\\n\"\n",
    "    \n",
    "    if len(str(item.location)) > 3:\n",
    "        md += 'location: \"' + str(item.location) + '\"\\n'\n",
    "           \n",
    "    md += \"---\\n\"\n",
    "    \n",
    "    \n",
    "    if len(str(item.talk_url)) > 3:\n",
    "        md += \"\\n[More information here](\" + item.talk_url + \")\\n\" \n",
    "        \n",
    "    \n",
    "    if len(str(item.description)) > 3:\n",
    "        md += \"\\n\" + html_escape(item.description) + \"\\n\"\n",
    "        \n",
    "        \n",
    "    md_filename = os.path.basename(md_filename)\n",
    "    #print(md)\n",
    "    \n",
    "    with open(\"../_talks/\" + md_filename, 'w') as f:\n",
    "        f.write(md)"
   ]
  },
  {
   "cell_type": "markdown",
   "metadata": {},
   "source": [
    "These files are in the talks directory, one directory below where we're working from."
   ]
  },
  {
   "cell_type": "code",
   "execution_count": 25,
   "metadata": {},
   "outputs": [
    {
     "name": "stdout",
     "output_type": "stream",
     "text": [
      "2022-amlc2022.md  2023-bosch2023.md 2023-sony2023.md\r\n",
      "2022-sea2022.md   2023-itw2023.md   2023-uu2023.md\r\n",
      "2022-ucl2022.md   2023-msr2023.md   2024-msr2024.md\r\n"
     ]
    }
   ],
   "source": [
    "!ls ../_talks"
   ]
  },
  {
   "cell_type": "code",
   "execution_count": 64,
   "metadata": {},
   "outputs": [],
   "source": []
  },
  {
   "cell_type": "code",
   "execution_count": 64,
   "metadata": {
    "pycharm": {
     "name": "#%%\n"
    }
   },
   "outputs": [],
   "source": []
  },
  {
   "cell_type": "code",
   "execution_count": 64,
   "metadata": {
    "pycharm": {
     "name": "#%%\n"
    }
   },
   "outputs": [],
   "source": []
  }
 ],
 "metadata": {
  "kernelspec": {
   "display_name": "Python 3 (ipykernel)",
   "language": "python",
   "name": "python3"
  },
  "language_info": {
   "codemirror_mode": {
    "name": "ipython",
    "version": 3
   },
   "file_extension": ".py",
   "mimetype": "text/x-python",
   "name": "python",
   "nbconvert_exporter": "python",
   "pygments_lexer": "ipython3",
   "version": "3.9.13"
  }
 },
 "nbformat": 4,
 "nbformat_minor": 1
}
