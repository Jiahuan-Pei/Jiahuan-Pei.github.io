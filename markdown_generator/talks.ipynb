{
 "cells": [
  {
   "cell_type": "markdown",
   "metadata": {},
   "source": [
    "# Talks markdown generator for academicpages\n",
    "\n",
    "Takes a TSV of talks with metadata and converts them for use with [academicpages.github.io](academicpages.github.io). This is an interactive Jupyter notebook ([see more info here](http://jupyter-notebook-beginner-guide.readthedocs.io/en/latest/what_is_jupyter.html)). The core python code is also in `talks.py`. Run either from the `markdown_generator` folder after replacing `talks.tsv` with one containing your data.\n",
    "\n",
    "TODO: Make this work with BibTex and other databases, rather than Stuart's non-standard TSV format and citation style."
   ]
  },
  {
   "cell_type": "code",
   "execution_count": 1,
   "metadata": {},
   "outputs": [],
   "source": [
    "import pandas as pd\n",
    "import os"
   ]
  },
  {
   "cell_type": "markdown",
   "metadata": {},
   "source": [
    "## Data format\n",
    "\n",
    "The TSV needs to have the following columns: title, type, url_slug, venue, date, location, talk_url, description, with a header at the top. Many of these fields can be blank, but the columns must be in the TSV.\n",
    "\n",
    "- Fields that cannot be blank: `title`, `url_slug`, `date`. All else can be blank. `type` defaults to \"Talk\" \n",
    "- `date` must be formatted as YYYY-MM-DD.\n",
    "- `url_slug` will be the descriptive part of the .md file and the permalink URL for the page about the paper. \n",
    "    - The .md file will be `YYYY-MM-DD-[url_slug].md` and the permalink will be `https://[yourdomain]/talks/YYYY-MM-DD-[url_slug]`\n",
    "    - The combination of `url_slug` and `date` must be unique, as it will be the basis for your filenames\n",
    "\n",
    "This is how the raw file looks (it doesn't look pretty, use a spreadsheet or other program to edit and create)."
   ]
  },
  {
   "cell_type": "code",
   "execution_count": 2,
   "metadata": {},
   "outputs": [
    {
     "name": "stdout",
     "output_type": "stream",
     "text": [
      "title\ttype\turl_slug\tvenue\tdate\tlocation\ttalk_url\tdescription\r",
      "\r\n",
      "Language Model Powered Dialogue Agents and Virtual KB\tInvited Talk\tsony2023\tSony AI\t19/09/2023\t\"Barcelona, Spain\"\t\t\"In this talk,  I introduce my latest research on autonomous dialogue agents, and discuss the potential for leveraging large language models in automating the construction of virtual knowledge bases.\"\r",
      "\r\n",
      "Advancements and Prospects in Dialogue Agents and LLMs\tInvited Talk\tbosch2023\tBosch Center of Artificial Intelligence (BCAI)\t24/07/2023\t\"Renningen, Germany\"\t\t\"In this talk, we will delve into the exciting advancements and prospects within the fields of Dialogue Agents and Language Model Models (LLMs). As the landscape of natural language processing and artificial intelligence continues to rapidly evolve, these two areas play pivotal roles in transforming human-computer interactions and enabling more sophisticated language understanding and generation. The first part provides an encompassing overview of recent research achievements, covering three key areas. Firstly, we explore cooperative dialogue agents, which implement diverse collaboration methods such as model, data, user, and language collaboration. These methods aim to foster more dynamic and context-aware conversational interactions, with significant implications for chatbots, virtual assistants, and other dialogue-based applications in various domains. Secondly, we focus on trustworthy systems, enhanced by uncertainty estimation and faithfulness evaluation, which have garnered increased attention in recent years. Understanding the uncertainty of model predictions and evaluating their faithfulness to the input data are vital for enhancing model trustworthiness, particularly in sensitive and high-stakes applications like medical diagnostics, legal judgments, and industrial decision-making. Lastly, we delve into domain-tailored LLMs, tailored for specific applications such as medical treatment, legal judgment, and industrial assembly. These specialized LLMs offer remarkable potential in providing contextually relevant and precise responses in specific domains, showcasing the power of customized language models. The second part of the talk focuses on exploring promising research prospects, including \"\"Faithfulness / Uncertainty Estimation,\"\" \"\"Multimodal LLMs,\"\" and \"\"LLM Powered Autonomous Agents.\"\" These prospects hold great potential for shaping the future of dialogue systems and language models. Last but not least, I eagerly anticipate your valuable suggestions and insightful questions, as they are highly appreciated and have the potential to enrich the discourse on these fascinating topics.\"\r",
      "\r\n",
      "Generative AI towards Scientific Discovery\tInvited Talk\tmsr2023\tMicrosoft Research AI4Science\t06/04/2023\t\"Amsterdam, Netherlands\"\t\t\"Artificial Intelligence (AI) is becoming increasingly important for scientific research, with many applications in fields like chemistry and biology. Generative AI, in particular, has shown great promise in accelerating scientific discovery by generating hypotheses and insights that may be difficult for humans to uncover. In this talk, we will use my previous research as examples to explore how generative AI models can be applied to natural language processing (NLP) and information retrieval (IR) tasks. We will also discuss the challenges and limitations of using generative AI, including concerns around uncertainty and interpretability. Furthermore, we will discuss the potential applications of generative AI in scientific discovery, such as accelerating the discovery of new molecules and simulating biological processes. Generative AI also has the potential to facilitate interdisciplinary collaborations between AI researchers and domain experts, such as chemists and biologists.\"\r",
      "\r\n",
      "Frontiers of Collaborative Task-oriented Dialogue Systems\tInvited Talk\tucl2022\tUniversity College London (UCL)\t06/07/2022\t\"London, UK\"\t\t\"In this talk, I introduce our exploration of collaborative dialogue models and our recent work on task-oriented dialogue systems. Task-oriented dialogue systems (TDSs), as an important branch of dialogue systems, have raised considerable interest due to their broad applicability. Recent end-to-end single-module TDSs have many attractive characteristics, e.g., global optimization and easy adaptation to new domains. However, we think it is impractical to use a single general agent to handle all complex cases in TDSs. For example, an agent that is specialized in booking a restaurant is unlikely to work well in scheduling meetings. Inspired by this intuition, we call for studies on a new series of collaborative task-oriented dialogue system (CTDS) frameworks, where multiple parallel and/or hierarchical agents work in a collaborative manner to achieve better performance than a single, general agent.\"\r",
      "\r\n",
      "Learning Embeddings to Represent Information Retrieval Systems\tConference proceedings Talk\tamlc2022\tAmazon Machine Learning Conference (AMLC)\t14/10/2022\t\"Seattle, WA, US\"\t\t\"In this talk, I introduce our paper accepted by Amazon Machine Learning Conference (AMLC) 2022 Workshop on Deep Metric Learning and Semantic Similarity Search.\"\r",
      "\r\n",
      "Transformer Uncertainty Estimation with Hierarchical Stochastic Attention\tInvited Talk\tsea2022\tSearch Engine Amsterdam (SEA)\t29/04/2022\t\"Amsterdam, Netherlands\"\t\t\"In this talk, I introduce the stochastic transformers, which have been published at AAAI 2022 conference and discuss about uncertain estimation in NLP/IR.Transformers are state-of-the-art in a wide range of NLP tasks and have also been applied to many real-world products. Understanding the reliability and certainty of transformer model predictions is crucial for building trustable machine learning applications, e.g., medical diagnosis. Although many recent transformer extensions have been proposed, the study of the uncertainty estimation of transformer models is under-explored. [[Link]](https://irlab.science.uva.nl/2022/04/21/search-engines-amsterdam-april-29/)\"\r",
      "\r\n",
      "Maximising efficiency in NLP model training and XR environments\tInvited Panel  Talk\titw2023\tImmersive Tech Week\t29/11/2023\t\"Rotterdam, Netherlands\"\t\t\"In this talk, we discussed our work and experiences on integrating AI technologies (from NLP and CV) into XR use-cases (training agent, theater play, virtual conference) in a roundtable on how NLP methods can be sustainably integrated.\"\r",
      "\r\n",
      "Multimodal Dialogue Agents Towards Intelligent XR\tInvited Talk\tuu2023\tUtrecht University\t04/12/2023\t\"Utrecht, Netherlans\"\t\t\"In this talk,  I introduce my recent work about dialogue agents, and explain how to adapt the mutimodal dialogue agents to XR systems with stronger intellegent and immersive experience. Specifcally, we use the training assistant use case at VOXreailty to show the challeges and potientials how to use NLP to enchance XR as an inter-disciplinary frointer.\""
     ]
    }
   ],
   "source": [
    "!cat talks.tsv"
   ]
  },
  {
   "cell_type": "markdown",
   "metadata": {},
   "source": [
    "## Import TSV\n",
    "\n",
    "Pandas makes this easy with the read_csv function. We are using a TSV, so we specify the separator as a tab, or `\\t`.\n",
    "\n",
    "I found it important to put this data in a tab-separated values format, because there are a lot of commas in this kind of data and comma-separated values can get messed up. However, you can modify the import statement, as pandas also has read_excel(), read_json(), and others."
   ]
  },
  {
   "cell_type": "code",
   "execution_count": 3,
   "metadata": {
    "scrolled": true
   },
   "outputs": [
    {
     "data": {
      "text/html": [
       "<div>\n",
       "<style scoped>\n",
       "    .dataframe tbody tr th:only-of-type {\n",
       "        vertical-align: middle;\n",
       "    }\n",
       "\n",
       "    .dataframe tbody tr th {\n",
       "        vertical-align: top;\n",
       "    }\n",
       "\n",
       "    .dataframe thead th {\n",
       "        text-align: right;\n",
       "    }\n",
       "</style>\n",
       "<table border=\"1\" class=\"dataframe\">\n",
       "  <thead>\n",
       "    <tr style=\"text-align: right;\">\n",
       "      <th></th>\n",
       "      <th>title</th>\n",
       "      <th>type</th>\n",
       "      <th>url_slug</th>\n",
       "      <th>venue</th>\n",
       "      <th>date</th>\n",
       "      <th>location</th>\n",
       "      <th>talk_url</th>\n",
       "      <th>description</th>\n",
       "    </tr>\n",
       "  </thead>\n",
       "  <tbody>\n",
       "    <tr>\n",
       "      <th>0</th>\n",
       "      <td>Language Model Powered Dialogue Agents and Vir...</td>\n",
       "      <td>Invited Talk</td>\n",
       "      <td>sony2023</td>\n",
       "      <td>Sony AI</td>\n",
       "      <td>19/09/2023</td>\n",
       "      <td>Barcelona, Spain</td>\n",
       "      <td>NaN</td>\n",
       "      <td>In this talk,  I introduce my latest research ...</td>\n",
       "    </tr>\n",
       "    <tr>\n",
       "      <th>1</th>\n",
       "      <td>Advancements and Prospects in Dialogue Agents ...</td>\n",
       "      <td>Invited Talk</td>\n",
       "      <td>bosch2023</td>\n",
       "      <td>Bosch Center of Artificial Intelligence (BCAI)</td>\n",
       "      <td>24/07/2023</td>\n",
       "      <td>Renningen, Germany</td>\n",
       "      <td>NaN</td>\n",
       "      <td>In this talk, we will delve into the exciting ...</td>\n",
       "    </tr>\n",
       "    <tr>\n",
       "      <th>2</th>\n",
       "      <td>Generative AI towards Scientific Discovery</td>\n",
       "      <td>Invited Talk</td>\n",
       "      <td>msr2023</td>\n",
       "      <td>Microsoft Research AI4Science</td>\n",
       "      <td>06/04/2023</td>\n",
       "      <td>Amsterdam, Netherlands</td>\n",
       "      <td>NaN</td>\n",
       "      <td>Artificial Intelligence (AI) is becoming incre...</td>\n",
       "    </tr>\n",
       "    <tr>\n",
       "      <th>3</th>\n",
       "      <td>Frontiers of Collaborative Task-oriented Dialo...</td>\n",
       "      <td>Invited Talk</td>\n",
       "      <td>ucl2022</td>\n",
       "      <td>University College London (UCL)</td>\n",
       "      <td>06/07/2022</td>\n",
       "      <td>London, UK</td>\n",
       "      <td>NaN</td>\n",
       "      <td>In this talk, I introduce our exploration of c...</td>\n",
       "    </tr>\n",
       "    <tr>\n",
       "      <th>4</th>\n",
       "      <td>Learning Embeddings to Represent Information R...</td>\n",
       "      <td>Conference proceedings Talk</td>\n",
       "      <td>amlc2022</td>\n",
       "      <td>Amazon Machine Learning Conference (AMLC)</td>\n",
       "      <td>14/10/2022</td>\n",
       "      <td>Seattle, WA, US</td>\n",
       "      <td>NaN</td>\n",
       "      <td>In this talk, I introduce our paper accepted b...</td>\n",
       "    </tr>\n",
       "    <tr>\n",
       "      <th>5</th>\n",
       "      <td>Transformer Uncertainty Estimation with Hierar...</td>\n",
       "      <td>Invited Talk</td>\n",
       "      <td>sea2022</td>\n",
       "      <td>Search Engine Amsterdam (SEA)</td>\n",
       "      <td>29/04/2022</td>\n",
       "      <td>Amsterdam, Netherlands</td>\n",
       "      <td>NaN</td>\n",
       "      <td>In this talk, I introduce the stochastic trans...</td>\n",
       "    </tr>\n",
       "    <tr>\n",
       "      <th>6</th>\n",
       "      <td>Maximising efficiency in NLP model training an...</td>\n",
       "      <td>Invited Panel  Talk</td>\n",
       "      <td>itw2023</td>\n",
       "      <td>Immersive Tech Week</td>\n",
       "      <td>29/11/2023</td>\n",
       "      <td>Rotterdam, Netherlands</td>\n",
       "      <td>NaN</td>\n",
       "      <td>In this talk, we discussed our work and experi...</td>\n",
       "    </tr>\n",
       "    <tr>\n",
       "      <th>7</th>\n",
       "      <td>Multimodal Dialogue Agents Towards Intelligent XR</td>\n",
       "      <td>Invited Talk</td>\n",
       "      <td>uu2023</td>\n",
       "      <td>Utrecht University</td>\n",
       "      <td>04/12/2023</td>\n",
       "      <td>Utrecht, Netherlans</td>\n",
       "      <td>NaN</td>\n",
       "      <td>In this talk,  I introduce my recent work abou...</td>\n",
       "    </tr>\n",
       "  </tbody>\n",
       "</table>\n",
       "</div>"
      ],
      "text/plain": [
       "                                               title  \\\n",
       "0  Language Model Powered Dialogue Agents and Vir...   \n",
       "1  Advancements and Prospects in Dialogue Agents ...   \n",
       "2         Generative AI towards Scientific Discovery   \n",
       "3  Frontiers of Collaborative Task-oriented Dialo...   \n",
       "4  Learning Embeddings to Represent Information R...   \n",
       "5  Transformer Uncertainty Estimation with Hierar...   \n",
       "6  Maximising efficiency in NLP model training an...   \n",
       "7  Multimodal Dialogue Agents Towards Intelligent XR   \n",
       "\n",
       "                          type   url_slug  \\\n",
       "0                 Invited Talk   sony2023   \n",
       "1                 Invited Talk  bosch2023   \n",
       "2                 Invited Talk    msr2023   \n",
       "3                 Invited Talk    ucl2022   \n",
       "4  Conference proceedings Talk   amlc2022   \n",
       "5                 Invited Talk    sea2022   \n",
       "6          Invited Panel  Talk    itw2023   \n",
       "7                 Invited Talk     uu2023   \n",
       "\n",
       "                                            venue        date  \\\n",
       "0                                         Sony AI  19/09/2023   \n",
       "1  Bosch Center of Artificial Intelligence (BCAI)  24/07/2023   \n",
       "2                   Microsoft Research AI4Science  06/04/2023   \n",
       "3                 University College London (UCL)  06/07/2022   \n",
       "4       Amazon Machine Learning Conference (AMLC)  14/10/2022   \n",
       "5                   Search Engine Amsterdam (SEA)  29/04/2022   \n",
       "6                             Immersive Tech Week  29/11/2023   \n",
       "7                              Utrecht University  04/12/2023   \n",
       "\n",
       "                 location  talk_url  \\\n",
       "0        Barcelona, Spain       NaN   \n",
       "1      Renningen, Germany       NaN   \n",
       "2  Amsterdam, Netherlands       NaN   \n",
       "3              London, UK       NaN   \n",
       "4         Seattle, WA, US       NaN   \n",
       "5  Amsterdam, Netherlands       NaN   \n",
       "6  Rotterdam, Netherlands       NaN   \n",
       "7     Utrecht, Netherlans       NaN   \n",
       "\n",
       "                                         description  \n",
       "0  In this talk,  I introduce my latest research ...  \n",
       "1  In this talk, we will delve into the exciting ...  \n",
       "2  Artificial Intelligence (AI) is becoming incre...  \n",
       "3  In this talk, I introduce our exploration of c...  \n",
       "4  In this talk, I introduce our paper accepted b...  \n",
       "5  In this talk, I introduce the stochastic trans...  \n",
       "6  In this talk, we discussed our work and experi...  \n",
       "7  In this talk,  I introduce my recent work abou...  "
      ]
     },
     "execution_count": 3,
     "metadata": {},
     "output_type": "execute_result"
    }
   ],
   "source": [
    "talks = pd.read_csv(\"talks.tsv\", sep=\"\\t\", header=0)\n",
    "talks"
   ]
  },
  {
   "cell_type": "markdown",
   "metadata": {},
   "source": [
    "## Escape special characters\n",
    "\n",
    "YAML is very picky about how it takes a valid string, so we are replacing single and double quotes (and ampersands) with their HTML encoded equivilents. This makes them look not so readable in raw format, but they are parsed and rendered nicely."
   ]
  },
  {
   "cell_type": "code",
   "execution_count": 4,
   "metadata": {},
   "outputs": [],
   "source": [
    "html_escape_table = {\n",
    "    \"&\": \"&amp;\",\n",
    "    '\"': \"&quot;\",\n",
    "    \"'\": \"&apos;\"\n",
    "    }\n",
    "\n",
    "def html_escape(text):\n",
    "    if type(text) is str:\n",
    "        return \"\".join(html_escape_table.get(c,c) for c in text)\n",
    "    else:\n",
    "        return \"False\""
   ]
  },
  {
   "cell_type": "markdown",
   "metadata": {},
   "source": [
    "## Creating the markdown files\n",
    "\n",
    "This is where the heavy lifting is done. This loops through all the rows in the TSV dataframe, then starts to concatentate a big string (```md```) that contains the markdown for each type. It does the YAML metadata first, then does the description for the individual page."
   ]
  },
  {
   "cell_type": "code",
   "execution_count": 5,
   "metadata": {},
   "outputs": [],
   "source": [
    "loc_dict = {}\n",
    "\n",
    "for row, item in talks.iterrows():\n",
    "    \n",
    "    md_filename = str(item.date) + \"-\" + item.url_slug + \".md\"\n",
    "    html_filename = str(item.date) + \"-\" + item.url_slug \n",
    "    year = item.date[:4]\n",
    "    \n",
    "    md = \"---\\ntitle: \\\"\"   + item.title + '\"\\n'\n",
    "    md += \"collection: talks\" + \"\\n\"\n",
    "    \n",
    "    if len(str(item.type)) > 3:\n",
    "        md += 'type: \"' + item.type + '\"\\n'\n",
    "    else:\n",
    "        md += 'type: \"Talk\"\\n'\n",
    "    \n",
    "    md += \"permalink: /talks/\" + html_filename + \"\\n\"\n",
    "    \n",
    "    if len(str(item.venue)) > 3:\n",
    "        md += 'venue: \"' + item.venue + '\"\\n'\n",
    "        \n",
    "    if len(str(item.location)) > 3:\n",
    "        md += \"date: \" + str(item.date) + \"\\n\"\n",
    "    \n",
    "    if len(str(item.location)) > 3:\n",
    "        md += 'location: \"' + str(item.location) + '\"\\n'\n",
    "           \n",
    "    md += \"---\\n\"\n",
    "    \n",
    "    \n",
    "    if len(str(item.talk_url)) > 3:\n",
    "        md += \"\\n[More information here](\" + item.talk_url + \")\\n\" \n",
    "        \n",
    "    \n",
    "    if len(str(item.description)) > 3:\n",
    "        md += \"\\n\" + html_escape(item.description) + \"\\n\"\n",
    "        \n",
    "        \n",
    "    md_filename = os.path.basename(md_filename)\n",
    "    #print(md)\n",
    "    \n",
    "    with open(\"../_talks/\" + md_filename, 'w') as f:\n",
    "        f.write(md)"
   ]
  },
  {
   "cell_type": "markdown",
   "metadata": {},
   "source": [
    "These files are in the talks directory, one directory below where we're working from."
   ]
  },
  {
   "cell_type": "code",
   "execution_count": 6,
   "metadata": {},
   "outputs": [
    {
     "name": "stdout",
     "output_type": "stream",
     "text": [
      "2022-amlc2022.md  2022-ucl2022.md   2023-itw2023.md   2023-sony2023.md\r\n",
      "2022-sea2022.md   2023-bosch2023.md 2023-msr2023.md   2023-uu2023.md\r\n"
     ]
    }
   ],
   "source": [
    "!ls ../_talks"
   ]
  },
  {
   "cell_type": "code",
   "execution_count": 64,
   "metadata": {},
   "outputs": [],
   "source": []
  },
  {
   "cell_type": "code",
   "execution_count": 64,
   "metadata": {
    "pycharm": {
     "name": "#%%\n"
    }
   },
   "outputs": [],
   "source": []
  },
  {
   "cell_type": "code",
   "execution_count": 64,
   "metadata": {
    "pycharm": {
     "name": "#%%\n"
    }
   },
   "outputs": [],
   "source": []
  }
 ],
 "metadata": {
  "kernelspec": {
   "display_name": "Python 3 (ipykernel)",
   "language": "python",
   "name": "python3"
  },
  "language_info": {
   "codemirror_mode": {
    "name": "ipython",
    "version": 3
   },
   "file_extension": ".py",
   "mimetype": "text/x-python",
   "name": "python",
   "nbconvert_exporter": "python",
   "pygments_lexer": "ipython3",
   "version": "3.9.13"
  }
 },
 "nbformat": 4,
 "nbformat_minor": 1
}
